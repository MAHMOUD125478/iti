{
  "nbformat": 4,
  "nbformat_minor": 0,
  "metadata": {
    "colab": {
      "provenance": [],
      "authorship_tag": "ABX9TyNFtYuJEEW7hcoAJToBH+Vo",
      "include_colab_link": true
    },
    "kernelspec": {
      "name": "python3",
      "display_name": "Python 3"
    },
    "language_info": {
      "name": "python"
    }
  },
  "cells": [
    {
      "cell_type": "markdown",
      "metadata": {
        "id": "view-in-github",
        "colab_type": "text"
      },
      "source": [
        "<a href=\"https://colab.research.google.com/github/MAHMOUD125478/iti/blob/main/Untitled25.ipynb\" target=\"_parent\"><img src=\"https://colab.research.google.com/assets/colab-badge.svg\" alt=\"Open In Colab\"/></a>"
      ]
    },
    {
      "cell_type": "code",
      "execution_count": 1,
      "metadata": {
        "colab": {
          "base_uri": "https://localhost:8080/"
        },
        "id": "083K3tDPI_DC",
        "outputId": "5d22fe38-0fc3-4cf5-a0b5-906331d393db"
      },
      "outputs": [
        {
          "output_type": "execute_result",
          "data": {
            "text/plain": [
              "(20.5, np.float64(20.5))"
            ]
          },
          "metadata": {},
          "execution_count": 1
        }
      ],
      "source": [
        "ages = [18, 21, 20, 19, 22, 23, 20, 21, 22, 19]\n",
        "\n",
        "manual_mean = sum(ages) / len(ages)\n",
        "\n",
        "import numpy as np\n",
        "numpy_mean = np.mean(ages)\n",
        "\n",
        "manual_mean, numpy_mean\n"
      ]
    },
    {
      "cell_type": "code",
      "source": [
        "import random\n",
        "import numpy as np\n",
        "\n",
        "data = [random.randint(10, 50) for _ in range(15)]\n",
        "\n",
        "sorted_data = sorted(data)\n",
        "n = len(sorted_data)\n",
        "if n % 2 == 1:\n",
        "    manual_median = sorted_data[n // 2]\n",
        "else:\n",
        "    manual_median = (sorted_data[n // 2 - 1] + sorted_data[n // 2]) / 2\n",
        "\n",
        "numpy_median = np.median(sorted_data)\n",
        "\n",
        "data, manual_median, numpy_median\n"
      ],
      "metadata": {
        "colab": {
          "base_uri": "https://localhost:8080/"
        },
        "id": "6B7ChkUGKuNI",
        "outputId": "0c179fda-6643-4b88-be1c-d1a65db280b4"
      },
      "execution_count": 2,
      "outputs": [
        {
          "output_type": "execute_result",
          "data": {
            "text/plain": [
              "([18, 48, 12, 45, 28, 28, 48, 21, 12, 43, 46, 10, 38, 18, 36],\n",
              " 28,\n",
              " np.float64(28.0))"
            ]
          },
          "metadata": {},
          "execution_count": 2
        }
      ]
    },
    {
      "cell_type": "code",
      "source": [
        "manual_min = min(data)\n",
        "manual_max = max(data)\n",
        "manual_range = manual_max - manual_min\n",
        "\n",
        "import numpy as np\n",
        "numpy_min = np.min(data)\n",
        "numpy_max = np.max(data)\n",
        "numpy_range = numpy_max - numpy_min\n",
        "\n",
        "manual_min, manual_max, manual_range, numpy_min, numpy_max, numpy_range\n"
      ],
      "metadata": {
        "colab": {
          "base_uri": "https://localhost:8080/"
        },
        "id": "vdfwGZFsLjvC",
        "outputId": "839e9925-b45e-4e13-e078-be1622c03f25"
      },
      "execution_count": 3,
      "outputs": [
        {
          "output_type": "execute_result",
          "data": {
            "text/plain": [
              "(10, 48, 38, np.int64(10), np.int64(48), np.int64(38))"
            ]
          },
          "metadata": {},
          "execution_count": 3
        }
      ]
    },
    {
      "cell_type": "code",
      "source": [
        "data = [5, 7, 3, 7, 9, 10, 15, 7]\n",
        "\n",
        "mean_value = sum(data) / len(data)\n",
        "manual_variance = sum((x - mean_value) ** 2 for x in data) / len(data)\n",
        "manual_std = manual_variance ** 0.5\n",
        "\n",
        "import numpy as np\n",
        "numpy_variance = np.var(data)\n",
        "numpy_std = np.std(data)\n",
        "\n",
        "manual_variance, manual_std, numpy_variance, numpy_std\n"
      ],
      "metadata": {
        "colab": {
          "base_uri": "https://localhost:8080/"
        },
        "id": "Zdy1hyl9ME0Y",
        "outputId": "1475962d-fb71-4051-9738-da4d79cbbd25"
      },
      "execution_count": 4,
      "outputs": [
        {
          "output_type": "execute_result",
          "data": {
            "text/plain": [
              "(11.359375,\n",
              " 3.370367190678191,\n",
              " np.float64(11.359375),\n",
              " np.float64(3.370367190678191))"
            ]
          },
          "metadata": {},
          "execution_count": 4
        }
      ]
    },
    {
      "cell_type": "code",
      "source": [
        "import numpy as np\n",
        "\n",
        "data = [7, 15, 36, 39, 40, 41, 42, 43, 47, 49, 50]\n",
        "\n",
        "q1 = np.percentile(data, 25)\n",
        "q2 = np.percentile(data, 50)\n",
        "q3 = np.percentile(data, 75)\n",
        "\n",
        "iqr = q3 - q1\n",
        "\n",
        "q1, q2, q3, iqr\n"
      ],
      "metadata": {
        "colab": {
          "base_uri": "https://localhost:8080/"
        },
        "id": "ZFs_E3KXND12",
        "outputId": "4e20119f-42e6-405d-bd26-e126cfec9cb6"
      },
      "execution_count": 5,
      "outputs": [
        {
          "output_type": "execute_result",
          "data": {
            "text/plain": [
              "(np.float64(37.5), np.float64(41.0), np.float64(45.0), np.float64(7.5))"
            ]
          },
          "metadata": {},
          "execution_count": 5
        }
      ]
    },
    {
      "cell_type": "code",
      "source": [
        "def z_score_normalization(data):\n",
        "    mean_value = sum(data) / len(data)\n",
        "    std_value = (sum((x - mean_value) ** 2 for x in data) / len(data)) ** 0.5\n",
        "    return [(x - mean_value) / std_value for x in data]\n",
        "\n",
        "data = [10, 20, 30, 40, 50]\n",
        "z_scores = z_score_normalization(data)\n",
        "z_scores\n"
      ],
      "metadata": {
        "colab": {
          "base_uri": "https://localhost:8080/"
        },
        "id": "sC6MYT79OfTY",
        "outputId": "2d86c0a4-7674-4bee-87c7-4ca54d52e610"
      },
      "execution_count": 6,
      "outputs": [
        {
          "output_type": "execute_result",
          "data": {
            "text/plain": [
              "[-1.414213562373095,\n",
              " -0.7071067811865475,\n",
              " 0.0,\n",
              " 0.7071067811865475,\n",
              " 1.414213562373095]"
            ]
          },
          "metadata": {},
          "execution_count": 6
        }
      ]
    },
    {
      "cell_type": "code",
      "source": [
        "import random\n",
        "import numpy as np\n",
        "\n",
        "data = [random.randint(1, 100) for _ in range(20)]\n",
        "\n",
        "manual_moving_avg = [sum(data[i:i+3]) / 3 for i in range(len(data) - 2)]\n",
        "\n",
        "numpy_moving_avg = np.convolve(data, np.ones(3)/3, mode='valid')\n",
        "\n",
        "data, manual_moving_avg, numpy_moving_avg\n"
      ],
      "metadata": {
        "colab": {
          "base_uri": "https://localhost:8080/"
        },
        "id": "eXrUXZc-O7SV",
        "outputId": "ed2a975d-9bd3-430d-e2d5-d3b9a90892d3"
      },
      "execution_count": 7,
      "outputs": [
        {
          "output_type": "execute_result",
          "data": {
            "text/plain": [
              "([74,\n",
              "  69,\n",
              "  7,\n",
              "  61,\n",
              "  53,\n",
              "  72,\n",
              "  85,\n",
              "  41,\n",
              "  82,\n",
              "  36,\n",
              "  49,\n",
              "  68,\n",
              "  79,\n",
              "  16,\n",
              "  79,\n",
              "  10,\n",
              "  65,\n",
              "  96,\n",
              "  52,\n",
              "  75],\n",
              " [50.0,\n",
              "  45.666666666666664,\n",
              "  40.333333333333336,\n",
              "  62.0,\n",
              "  70.0,\n",
              "  66.0,\n",
              "  69.33333333333333,\n",
              "  53.0,\n",
              "  55.666666666666664,\n",
              "  51.0,\n",
              "  65.33333333333333,\n",
              "  54.333333333333336,\n",
              "  58.0,\n",
              "  35.0,\n",
              "  51.333333333333336,\n",
              "  57.0,\n",
              "  71.0,\n",
              "  74.33333333333333],\n",
              " array([50.        , 45.66666667, 40.33333333, 62.        , 70.        ,\n",
              "        66.        , 69.33333333, 53.        , 55.66666667, 51.        ,\n",
              "        65.33333333, 54.33333333, 58.        , 35.        , 51.33333333,\n",
              "        57.        , 71.        , 74.33333333]))"
            ]
          },
          "metadata": {},
          "execution_count": 7
        }
      ]
    },
    {
      "cell_type": "code",
      "source": [
        "import random\n",
        "import numpy as np\n",
        "\n",
        "data = [random.randint(1, 50) for _ in range(25)]\n",
        "data.extend([300, 400])\n",
        "\n",
        "q1 = np.percentile(data, 25)\n",
        "q3 = np.percentile(data, 75)\n",
        "iqr = q3 - q1\n",
        "\n",
        "lower_bound = q1 - 1.5 * iqr\n",
        "upper_bound = q3 + 1.5 * iqr\n",
        "\n",
        "outliers = [x for x in data if x < lower_bound or x > upper_bound]\n",
        "\n",
        "data, outliers\n"
      ],
      "metadata": {
        "colab": {
          "base_uri": "https://localhost:8080/"
        },
        "id": "M_Yhm8HOPVPc",
        "outputId": "65e343db-cbca-4428-df23-c9d14497394a"
      },
      "execution_count": 8,
      "outputs": [
        {
          "output_type": "execute_result",
          "data": {
            "text/plain": [
              "([7,\n",
              "  7,\n",
              "  22,\n",
              "  29,\n",
              "  16,\n",
              "  42,\n",
              "  43,\n",
              "  36,\n",
              "  19,\n",
              "  43,\n",
              "  36,\n",
              "  41,\n",
              "  30,\n",
              "  1,\n",
              "  10,\n",
              "  9,\n",
              "  47,\n",
              "  40,\n",
              "  32,\n",
              "  14,\n",
              "  13,\n",
              "  41,\n",
              "  32,\n",
              "  46,\n",
              "  5,\n",
              "  300,\n",
              "  400],\n",
              " [300, 400])"
            ]
          },
          "metadata": {},
          "execution_count": 8
        }
      ]
    },
    {
      "cell_type": "code",
      "source": [],
      "metadata": {
        "id": "t4H_wLkcPoLE"
      },
      "execution_count": null,
      "outputs": []
    }
  ]
}